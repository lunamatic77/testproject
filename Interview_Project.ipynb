{
  "nbformat": 4,
  "nbformat_minor": 0,
  "metadata": {
    "colab": {
      "provenance": [],
      "authorship_tag": "ABX9TyOvu8W1/IS+qfwoahzcPqxS",
      "include_colab_link": true
    },
    "kernelspec": {
      "name": "python3",
      "display_name": "Python 3"
    },
    "language_info": {
      "name": "python"
    }
  },
  "cells": [
    {
      "cell_type": "markdown",
      "metadata": {
        "id": "view-in-github",
        "colab_type": "text"
      },
      "source": [
        "<a href=\"https://colab.research.google.com/github/lunamatic77/testproject/blob/main/Interview_Project.ipynb\" target=\"_parent\"><img src=\"https://colab.research.google.com/assets/colab-badge.svg\" alt=\"Open In Colab\"/></a>"
      ]
    },
    {
      "cell_type": "code",
      "source": [
        "pip install stripe"
      ],
      "metadata": {
        "colab": {
          "base_uri": "https://localhost:8080/"
        },
        "id": "7bbqAmTNpsgf",
        "outputId": "c891ea65-bdd0-4560-d37f-11bb193fe012"
      },
      "execution_count": null,
      "outputs": [
        {
          "output_type": "stream",
          "name": "stdout",
          "text": [
            "Collecting stripe\n",
            "  Downloading stripe-8.6.0-py2.py3-none-any.whl (1.3 MB)\n",
            "\u001b[2K     \u001b[90m━━━━━━━━━━━━━━━━━━━━━━━━━━━━━━━━━━━━━━━━\u001b[0m \u001b[32m1.3/1.3 MB\u001b[0m \u001b[31m11.4 MB/s\u001b[0m eta \u001b[36m0:00:00\u001b[0m\n",
            "\u001b[?25hRequirement already satisfied: requests>=2.20 in /usr/local/lib/python3.10/dist-packages (from stripe) (2.31.0)\n",
            "Requirement already satisfied: typing-extensions>=4.5.0 in /usr/local/lib/python3.10/dist-packages (from stripe) (4.10.0)\n",
            "Requirement already satisfied: charset-normalizer<4,>=2 in /usr/local/lib/python3.10/dist-packages (from requests>=2.20->stripe) (3.3.2)\n",
            "Requirement already satisfied: idna<4,>=2.5 in /usr/local/lib/python3.10/dist-packages (from requests>=2.20->stripe) (3.6)\n",
            "Requirement already satisfied: urllib3<3,>=1.21.1 in /usr/local/lib/python3.10/dist-packages (from requests>=2.20->stripe) (2.0.7)\n",
            "Requirement already satisfied: certifi>=2017.4.17 in /usr/local/lib/python3.10/dist-packages (from requests>=2.20->stripe) (2024.2.2)\n",
            "Installing collected packages: stripe\n",
            "Successfully installed stripe-8.6.0\n"
          ]
        }
      ]
    },
    {
      "cell_type": "code",
      "source": [
        "import stripe\n",
        "\n",
        "#This is my test key account under normal circumstances I shouldn't share it with anyone\n",
        "stripe.api_key = \"sk_test_51OtperADP7qnqFiUMBI4s1vN0YiyYN4xpUjMzQAhyZJDlxikPEOtjohIxwDIvy6S2O8qtsh888bSqgZBCSysMtIT00LA23ziwS\""
      ],
      "metadata": {
        "id": "xa77BFXMUlXp"
      },
      "execution_count": null,
      "outputs": []
    },
    {
      "cell_type": "markdown",
      "source": [
        "# Question 1 | Saving Customer Objects\n",
        "\n",
        "Stripe allows you to save credit card details for later. Using an API call, create a customer object leveraging a Visa test payment method. For all of the following questions below, you should continue to charge against the same\n"
      ],
      "metadata": {
        "id": "PPQRzdw5o8FR"
      }
    },
    {
      "cell_type": "code",
      "source": [
        "\n",
        "# Creating an customer with one of the test payment methods.\n",
        "customer = stripe.Customer.create(\n",
        "  name=\"Guy Incognito\",\n",
        "  email=\"guy-incognito@example.com\",\n",
        "  payment_method=\"pm_card_visa_cartesBancaires\" #Test Visa payment method\n",
        ")\n",
        "\n",
        "payment_methods=stripe.Customer.list_payment_methods(\n",
        "  customer.id,\n",
        "  limit=3,\n",
        ")\n",
        "\n",
        "if len(payment_methods.data) > 0:\n",
        "  payment_method_id =  payment_methods.data[0].id\n",
        "\n",
        "print(payment_method_id)\n",
        "print(customer.id)"
      ],
      "metadata": {
        "colab": {
          "base_uri": "https://localhost:8080/"
        },
        "id": "tfRZitzwpMjr",
        "outputId": "07f9706d-12d9-48fe-d389-596055521cf0"
      },
      "execution_count": null,
      "outputs": [
        {
          "output_type": "stream",
          "name": "stdout",
          "text": [
            "pm_1OtzaYADP7qnqFiUTdURlM6b\n",
            "cus_PjSV9mSDzEmeh3\n"
          ]
        }
      ]
    },
    {
      "cell_type": "markdown",
      "source": [
        "# Question 2 | Auth & Capture\n",
        "\n",
        "Stripe allows its users to auth and capture. This is most commonly used by retailers (like Amazon) who authorize your credit card at the time of checkout, but only capture the charge after they have confirmed that their warehouse has the item or once they have shipped the item.\n",
        "\n"
      ],
      "metadata": {
        "id": "MRtC-Zp8qZ2j"
      }
    },
    {
      "cell_type": "markdown",
      "source": [
        "**2a.** Use an API call to create an authorization for $100. Provide the Payment Intent ID related to this authorization."
      ],
      "metadata": {
        "id": "eCOwf7qMqlcN"
      }
    },
    {
      "cell_type": "code",
      "source": [
        "payment_intent=stripe.PaymentIntent.create(\n",
        "  amount=10000, #10,000 cents :-)\n",
        "  currency=\"usd\",\n",
        "  payment_method=payment_method_id,\n",
        "  customer=customer.id,\n",
        "  capture_method='manual', #Since we don't want to capture yet we will set 'manual'\n",
        "  confirm=True,\n",
        "  return_url=\"http://www.stripe.com/\"\n",
        ")\n",
        "\n",
        "print(payment_intent.id)\n",
        "print(payment_intent.status)\n"
      ],
      "metadata": {
        "colab": {
          "base_uri": "https://localhost:8080/"
        },
        "id": "Nkw37P_crK4i",
        "outputId": "4132075d-2260-4cb3-aa6e-4cf20ca26123"
      },
      "execution_count": null,
      "outputs": [
        {
          "output_type": "stream",
          "name": "stdout",
          "text": [
            "pi_3Ou0ntADP7qnqFiU0yDQPZIV\n",
            "requires_capture\n"
          ]
        }
      ]
    },
    {
      "cell_type": "markdown",
      "source": [
        "2b. Screenshot"
      ],
      "metadata": {
        "id": "nkgtXPMVvfxN"
      }
    },
    {
      "cell_type": "markdown",
      "source": [
        "**2c.** Use an API call to create a capture for $75. What happens to a charge if you only capture for a portion of an authorization, and not the full amount?"
      ],
      "metadata": {
        "id": "ODS8L1_Ny4AU"
      }
    },
    {
      "cell_type": "code",
      "source": [
        "payment_intent=stripe.PaymentIntent.capture(payment_intent.id,\n",
        "                                            amount_to_capture=7500\n",
        "                                            )\n",
        "print(payment_intent.id)\n",
        "print(payment_intent.status)"
      ],
      "metadata": {
        "colab": {
          "base_uri": "https://localhost:8080/"
        },
        "id": "BL8Dh8z9zA5W",
        "outputId": "d8dc6a11-739f-4bc2-cc82-c2f7c1af0c20"
      },
      "execution_count": null,
      "outputs": [
        {
          "output_type": "stream",
          "name": "stdout",
          "text": [
            "pi_3Ou0ntADP7qnqFiU0yDQPZIV\n",
            "succeeded\n"
          ]
        }
      ]
    },
    {
      "cell_type": "markdown",
      "source": [
        "The original reserved amount is refunded and the user is only charged the amount that was captured ($75 USD)"
      ],
      "metadata": {
        "id": "AdiD2AvAYjkH"
      }
    },
    {
      "cell_type": "markdown",
      "source": [
        "**2d.** How do steps 2a-2c show on the customer’s bank statement?\n",
        "\n",
        "- When the reserve for $100 USD is created, it should show up on the  partial bank statement that users can see on their bank's website or App, the amount will be showed as \"in transit\" or \"pending\".\n",
        "\n",
        "- On the partial statement from the bank's website or app, when the final amount is captured, the user should see a refund for the amount reserved \"+100USD\", and a new charge for $75USD which is not pending or \"in transit\".\n",
        "\n",
        "- The monthly official final statement should only include the $75USD charge and not the temporary reserved amount.\n",
        "\n"
      ],
      "metadata": {
        "id": "heys6B6XzzEQ"
      }
    },
    {
      "cell_type": "markdown",
      "source": [
        "**2e.** Name and describe 2 distinct business models/use cases that would require auth and then capture at a later time.\n",
        "\n",
        "Besides the use case for online stores like Amazon which is mentioned in the question, these industries use this model:\n",
        "\n",
        "- Airlines, in many countries consumer laws allow users to \"repent\" from a purchase, so when users buy a flight, many airlines reserve and amount for some period, for example 24 or 48 hours, after that period elapses they make a capture.\n",
        "\n",
        "- Car rental companies create a reserve  for certain amount when they deliver a car to a customer, after the customer returns the car, the rental company may refund 100% of the reserved amount or charge the user if the circumnstances require it.\n",
        "\n",
        "- Online stores/marketplaces that sell digital goods (apps, vod purchase or rental): some online stores allow the users to \"return\" a digital good within certain amount of time after the purchase, for example 2 hours. In this case the online store could reserve the amount, and capture it after the period.\n",
        "\n",
        "\n",
        "\n"
      ],
      "metadata": {
        "id": "i4CNEBw7z3LD"
      }
    },
    {
      "cell_type": "markdown",
      "source": [
        "# Question 3 | Stripe Connect\n",
        "\n",
        "Through our Connect platform product, Stripe enables platforms like Lyft to collect payments from riders and also payout drivers. In Stripe API terminology, a rider is a “customer” and a driver is a “connected account.” There are three different types of Connect accounts. For this question, you will be making API calls with Custom Connect accounts. Use this Connect test data as needed.\n",
        "\n",
        "**3a.** Create a Custom Connect connected account. Provide the account ID."
      ],
      "metadata": {
        "id": "DiBW-kucz_B6"
      }
    },
    {
      "cell_type": "code",
      "source": [],
      "metadata": {
        "id": "bzpkvJASf4vx"
      },
      "execution_count": null,
      "outputs": []
    },
    {
      "cell_type": "code",
      "source": [
        "\n",
        "test_connect_account=stripe.Account.create(\n",
        "  type=\"custom\",\n",
        "  country=\"US\",\n",
        "  capabilities={\n",
        "    \"card_payments\": {\"requested\": True},\n",
        "    \"transfers\": {\"requested\": True},\n",
        "  },\n",
        "  external_account='btok_us',\n",
        "  tos_acceptance={\n",
        "    \"ip\": \"172.18.80.19\",\n",
        "    \"date\": 1547923073,\n",
        "  }\n",
        ")\n",
        "\n",
        "print(test_connect_account.id)\n"
      ],
      "metadata": {
        "colab": {
          "base_uri": "https://localhost:8080/"
        },
        "id": "TP7mXiAB0Gsi",
        "outputId": "5cc048bd-1011-4dd6-a3a9-74625aaf4141"
      },
      "execution_count": null,
      "outputs": [
        {
          "output_type": "stream",
          "name": "stdout",
          "text": [
            "acct_1OtzyEPOVSzKex68\n"
          ]
        }
      ]
    },
    {
      "cell_type": "markdown",
      "source": [
        "*In real life, the connected account's holder should provide valid information to verify the account.  For this test scenario, we will need to provide test data to have an usefule test connected account *"
      ],
      "metadata": {
        "id": "46MWwvds3CQ_"
      }
    },
    {
      "cell_type": "code",
      "source": [
        "# Modifying the test account to provide test data for validation\n",
        "\n",
        "test_connect_account=stripe.Account.modify(\n",
        "  test_connect_account.id,\n",
        "  metadata={\"order_id\": \"6735\"},\n",
        "  business_type=\"individual\",\n",
        "  business_profile={\n",
        "      \"mcc\":5045,\n",
        "      \"url\":\"https://bestcookieco.com\",\n",
        "  },\n",
        "  company={\n",
        "      \"address\":{\n",
        "          \"city\":\"Schenectady\",\n",
        "          \"line1\":\"123 State St\",\n",
        "          \"postal_code\":\"12345\",\n",
        "          \"state\":\"NY\",\n",
        "      },\n",
        "      \"tax_id\":\"000000000\",\n",
        "      \"name\":\"The Best Cookie Co\"\n",
        "  },\n",
        "  individual={\n",
        "      \"address\":{\n",
        "        \"city\":\"Schenectady\",\n",
        "        \"line1\":\"123 State St\",\n",
        "        \"postal_code\":\"12345\",\n",
        "        \"state\":\"NY\",\n",
        "      },\n",
        "      \"dob\":{\n",
        "          \"day\":\"01\",\n",
        "          \"month\":\"01\",\n",
        "          \"year\":\"1902\",\n",
        "      },\n",
        "      \"email\":\"mrt@example.com\",\n",
        "      \"first_name\":\"Gunnar\",\n",
        "      \"last_name\":\"Gunnarsson\",\n",
        "      \"phone\":\"8888675309\",\n",
        "      \"id_number\":\"000000000\",\n",
        "      \"ssn_last_4\":\"0000\"\n",
        "  }\n",
        ")\n",
        "\n",
        "# We shouldn't see pending requirements\n",
        "print(test_connect_account.requirements)\n",
        "print(test_connect_account.id)"
      ],
      "metadata": {
        "colab": {
          "base_uri": "https://localhost:8080/"
        },
        "id": "FCzFyDKS3Cm4",
        "outputId": "05589668-511a-41ae-8f95-842a5b1138bb"
      },
      "execution_count": null,
      "outputs": [
        {
          "output_type": "stream",
          "name": "stdout",
          "text": [
            "{\n",
            "  \"alternatives\": [],\n",
            "  \"current_deadline\": 1711578358,\n",
            "  \"currently_due\": [],\n",
            "  \"disabled_reason\": null,\n",
            "  \"errors\": [],\n",
            "  \"eventually_due\": [],\n",
            "  \"past_due\": [],\n",
            "  \"pending_verification\": [\n",
            "    \"business_profile.url\"\n",
            "  ]\n",
            "}\n",
            "acct_1OtzyEPOVSzKex68\n"
          ]
        }
      ]
    },
    {
      "cell_type": "markdown",
      "source": [
        "**3b**. Create a “destination” charge for a Lyft ride in which the rider pays 20USD  and the driver receives $15. Provide the Payment Intent ID."
      ],
      "metadata": {
        "id": "Mj0CoH3D7doj"
      }
    },
    {
      "cell_type": "code",
      "source": [
        "test_destination_intent=stripe.PaymentIntent.create(\n",
        "  amount=2000,\n",
        "  currency=\"usd\",\n",
        "  payment_method=payment_method_id,\n",
        "  customer=customer.id,\n",
        "  #capture_method='manual',\n",
        "  confirm=True,\n",
        "  application_fee_amount=500, # Platforms's fee\n",
        "  transfer_data={\"destination\":test_connect_account.id},\n",
        "  return_url=\"http://www.stripe.com/\",\n",
        ")\n",
        "\n",
        "print(test_destination_intent.id)\n",
        "print(test_destination_intent.status)\n"
      ],
      "metadata": {
        "colab": {
          "base_uri": "https://localhost:8080/"
        },
        "id": "p4emKhJ37fg1",
        "outputId": "7d7abad9-04e9-4992-e486-8cb6e4dbae38"
      },
      "execution_count": null,
      "outputs": [
        {
          "output_type": "stream",
          "name": "stdout",
          "text": [
            "pi_3Ou0e9ADP7qnqFiU1x59yygi\n",
            "requires_capture\n"
          ]
        }
      ]
    },
    {
      "cell_type": "markdown",
      "source": [
        "**3c.** For this ride, how much is Lyft’s platform fee?"
      ],
      "metadata": {
        "id": "DTg1HKf29uRP"
      }
    },
    {
      "cell_type": "markdown",
      "source": [
        "$5 USD"
      ],
      "metadata": {
        "id": "vSU1PwbLhz4S"
      }
    },
    {
      "cell_type": "code",
      "source": [
        "print(test_destination_intent.application_fee_amount)\n"
      ],
      "metadata": {
        "colab": {
          "base_uri": "https://localhost:8080/"
        },
        "id": "mgb0vDdZ9ymD",
        "outputId": "5db9d3f7-7822-4ab1-b776-fe082ddf62d1"
      },
      "execution_count": null,
      "outputs": [
        {
          "output_type": "stream",
          "name": "stdout",
          "text": [
            "500\n"
          ]
        }
      ]
    },
    {
      "cell_type": "markdown",
      "source": [
        "**3d.** How much is the Stripe processing fee for this ride?"
      ],
      "metadata": {
        "id": "dadbDjgm9zSU"
      }
    },
    {
      "cell_type": "code",
      "source": [],
      "metadata": {
        "colab": {
          "base_uri": "https://localhost:8080/"
        },
        "id": "sTmwJizN93xE",
        "outputId": "1fb73532-fbb7-4ee8-e0b6-bcd431e46949"
      },
      "execution_count": null,
      "outputs": [
        {
          "output_type": "stream",
          "name": "stdout",
          "text": [
            "2000\n"
          ]
        }
      ]
    },
    {
      "cell_type": "markdown",
      "source": [
        "**3e.** What are Lyft's net earnings for this ride?"
      ],
      "metadata": {
        "id": "mtDk1QIy94Pj"
      }
    },
    {
      "cell_type": "markdown",
      "source": [
        "**3f.** Now, try to have Lyft charge the driver $2 to cover the cost of the neon-lighted Lyft sign that sits in their dashboard. Provide the ID for that request."
      ],
      "metadata": {
        "id": "kFAiV8At-D_l"
      }
    },
    {
      "cell_type": "code",
      "source": [
        "# The signup flow of our hypothetical platform's app should include a step\n",
        "# where the drivers provide payment information, so we could create a payment\n",
        "# method for this kinds of charges, we could use these API calls to set the payment method\n",
        "\n",
        "\n",
        "\n",
        "\n",
        "\n",
        "\n",
        "# If the payment method has not been set we can create the PaymentIntent, but the\n",
        "# status will be \"requires_payment_method\" and we will need the driver to accomplish\n",
        "# that step.\n",
        "\n",
        "direct_charge = stripe.PaymentIntent.create(\n",
        "  amount=200,\n",
        "  currency=\"usd\",\n",
        "  automatic_payment_methods={\"enabled\": True},\n",
        "  stripe_account='acct_1OtxTMPMvHR1xzRb',  # We charge the connected account.\n",
        "  #stripe_account=test_connect_account.id,  # We charge the connected account.\n",
        ")\n",
        "print(direct_charge.id)\n",
        "print(direct_charge.status)"
      ],
      "metadata": {
        "id": "n1B9OMf9BAml",
        "colab": {
          "base_uri": "https://localhost:8080/"
        },
        "outputId": "626c4506-b17a-4368-e98d-b101ea91e9a0"
      },
      "execution_count": null,
      "outputs": [
        {
          "output_type": "stream",
          "name": "stdout",
          "text": [
            "pi_3OuAoUPMvHR1xzRb1xlh5jrN\n",
            "requires_payment_method\n"
          ]
        }
      ]
    },
    {
      "cell_type": "markdown",
      "source": [
        "**3g.** Tell us about how you went about solving 3F. What is your API call doing?\n",
        "\n",
        "From the guide: *\"With Connect, you can make charges directly on the connected account and take fees in the process.\"*\n",
        "\n",
        "So in this case, I think that creating a payment intent using the id of the connected account.\n",
        "\n",
        "This requires that the user sets a payment method. In our hypothetical scenario when the apps creates the Connected account, it could also create a payment method. The flow to sign up a new driver, besides providing a form to enter all the information, it could also provide a step to enter a payment method.\n",
        "\n",
        "\n",
        "**3h.** Aside from rideshare, name a business or industry that should use Stripe Connect and why.\n",
        "\n",
        "Connects works very well for industries where freelancers provide services, so it could also be used for:\n",
        "- Online Psychoterapy platforms where independent psychologist can sign up to provide therapy to the users of the platform. The platform could use Stripe Connect accounts to pay the psychologists.\n",
        "\n"
      ],
      "metadata": {
        "id": "M7l-r4XL-YfC"
      }
    },
    {
      "cell_type": "markdown",
      "source": [
        "# Question 4 | Responding to Users\n",
        "\n",
        "For this prompt, imagine you're a TAM supporting a user across Stripe's portfolio of products and they wrote into Stripe:\n",
        "\"Good news, we got go ahead for our planned streaming service. Development will start next week and we’re\n",
        "\n",
        "> Indented block\n",
        "looking to understand how we can charge our users on a monthly basis, it looks like Stripe can help with that?\n",
        "We have two plans in mind:\n",
        "> *   Plan A: Flat rate of \\$24.99 per month for unlimited usage of the service\n",
        "\n",
        "> *   Plan B: \\$10.99 for the first 100 GB and \\$1.00 per subsequent 10 GB\n",
        "Can you please give an overview of how this could be achieved through the API? As you know, we use Python in our environment.\n",
        "Finally, if we wanted to introduce a coupon into the mix, how would that work?\n",
        "Best,\n",
        ">\n",
        ">[Customer's Name]\"\n",
        "\n",
        "**How would you respond?**\n",
        "\n",
        "\n"
      ],
      "metadata": {
        "id": "Ufse8aE3-c52"
      }
    },
    {
      "cell_type": "markdown",
      "source": [],
      "metadata": {
        "id": "zBfX_Ft1_f6o"
      }
    }
  ]
}